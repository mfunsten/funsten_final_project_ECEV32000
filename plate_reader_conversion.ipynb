{
 "cells": [
  {
   "cell_type": "code",
   "execution_count": 1,
   "metadata": {
    "collapsed": true
   },
   "outputs": [],
   "source": [
    "import csv\n",
    "import itertools\n",
    "import pandas\n",
    "import re"
   ]
  },
  {
   "cell_type": "code",
   "execution_count": 2,
   "metadata": {
    "collapsed": true,
    "scrolled": true
   },
   "outputs": [],
   "source": [
    "def plate_to_dict(file):\n",
    "    '''Converts VersaMax Plate Reader text file to a dictionary\n",
    "    \n",
    "    keys equal plate reader rows a-h\n",
    "    values are lists corresponding to columns 1-12 in each row\n",
    "    '''\n",
    "    with(open(file)) as f:\n",
    "        plate = csv.reader(f, delimiter = '\\t')\n",
    "        alph = ['a', 'b', 'c', 'd', 'e', 'f', 'g', 'h']\n",
    "        plate_dict = {}\n",
    "        for i in itertools.islice(plate, 3, 11): \n",
    "            #96 well plate data is only stored in rows 3-11\n",
    "            for z in alph:\n",
    "                if z in plate_dict.keys():\n",
    "                    next\n",
    "                else: \n",
    "                    plate_dict[z] = i[2:14]\n",
    "                    #VersaMax text files begin and end each row with spaces\n",
    "                    #Only columns 2-14 correspond to actual data\n",
    "                    break\n",
    "    return plate_dict"
   ]
  },
  {
   "cell_type": "code",
   "execution_count": 3,
   "metadata": {
    "collapsed": true
   },
   "outputs": [],
   "source": [
    "def bind_dict_to_sample(input_file, \n",
    "                        input_template,\n",
    "                        output_filename = 'untitled.csv',\n",
    "                        samp_numrep = 2,\n",
    "                        stan_numrep = 3,\n",
    "                        blank_numrep = 3):\n",
    "    \n",
    "    '''Binds values from dictionary produced with plate_to_dict to\n",
    "    appropriate sample IDs in a template data_frame provided by the \n",
    "    user. Template must include a column titled type for each sample\n",
    "    filled with Sample, Standard, or Blank.  Template must also include\n",
    "    a column titled position that includes a 96 well plate row ID\n",
    "    followed by a 96 well plate column ID in the format A, 10 for \n",
    "    example.\n",
    "    \n",
    "    Note: Assumes technical replicates on plate are horizontal.\n",
    "    \n",
    "    input_file = VersaMax Plate Reader Text File\n",
    "    input_template = user created csv file containing sample information, \n",
    "    and starting well location on 96 well plate.\n",
    "    samp_numrep = technical replicates for each sample labeled Sample\n",
    "    stan_numrep = technical replicates for each sample labeled Standard\n",
    "    blank_numrep = technical replicates for each sample labeled Blank\n",
    "    '''\n",
    "\n",
    "    data = plate_to_dict(input_file)\n",
    "    input_template = pandas.read_csv(input_template)\n",
    "    \n",
    "    #creates new columns labeled OD_1 - OD_(max number of replicates). Fills with 'None'\n",
    "    z = max(samp_numrep, stan_numrep, blank_numrep)\n",
    "    for j in range(1, z + 1):\n",
    "        newcol = \"OD_\" + str(j)\n",
    "        input_template[newcol] = None\n",
    "\n",
    "    #Binds correct values from plate_to_dict dictionary to each sample based on position column    \n",
    "    for index, row in input_template.iterrows():\n",
    "        c = re.search(r'\\w', row['position']) #row ID\n",
    "        c = str.lower(c.group())\n",
    "        d = re.search(r'\\d+', row['position']) #column ID\n",
    "        d = d.group()\n",
    "        \n",
    "        #collects sequential data from dictionary key starting from c: d based on number of replicates\n",
    "        if row['type'] == 'Sample':\n",
    "            values = list(data[c][int(d) - 1 : int(d) + samp_numrep - 1]) \n",
    "            od_match = list(range(1, len(values) + 1))\n",
    "            for n in od_match:\n",
    "                input_template.loc[index, 'OD_' + str(n)] = float(values[n - 1])\n",
    "        elif row['type'] == 'Standard':\n",
    "            values = list(data[c][int(d) - 1 : int(d) + stan_numrep - 1])\n",
    "            od_match = list(range(1, len(values) + 1))\n",
    "            for n in od_match:\n",
    "                input_template.loc[index, 'OD_' + str(n)] = float(values[n - 1])\n",
    "        elif row['type'] == 'Blank':\n",
    "            values = list(data[c][int(d) - 1 : int(d) + blank_numrep - 1])\n",
    "            od_match = list(range(1, len(values) + 1))\n",
    "            for n in od_match:\n",
    "                input_template.loc[index, 'OD_' + str(n)] = float(values[n - 1])\n",
    "        else:\n",
    "            print('Error: Unrecognized label in column \"type\"') #in case there is a typo in template \n",
    "\n",
    "    input_template.to_csv(output_filename)"
   ]
  },
  {
   "cell_type": "code",
   "execution_count": 4,
   "metadata": {
    "collapsed": true
   },
   "outputs": [],
   "source": [
    "bind_dict_to_sample('output_txt_file.txt', 'automated_ELISA_template.csv', 'post_python_file.csv', 2, 3, 3)"
   ]
  },
  {
   "cell_type": "code",
   "execution_count": null,
   "metadata": {
    "collapsed": true
   },
   "outputs": [],
   "source": []
  }
 ],
 "metadata": {
  "kernelspec": {
   "display_name": "Python 3",
   "language": "python",
   "name": "python3"
  },
  "language_info": {
   "codemirror_mode": {
    "name": "ipython",
    "version": 3
   },
   "file_extension": ".py",
   "mimetype": "text/x-python",
   "name": "python",
   "nbconvert_exporter": "python",
   "pygments_lexer": "ipython3",
   "version": "3.6.3"
  }
 },
 "nbformat": 4,
 "nbformat_minor": 2
}
